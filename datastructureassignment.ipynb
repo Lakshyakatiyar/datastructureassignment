{
 "cells": [
  {
   "cell_type": "code",
   "execution_count": 1,
   "id": "ea1b08d6-4d29-44fc-a326-749930f32169",
   "metadata": {},
   "outputs": [],
   "source": [
    "#Comments in Python are identified with a hash symbol(#)and extend to the end of the line. Hash characters in a string are not considered comments, however.\n",
    "#There are three ways to write a comment - as a separate line, beside the corresponding statement of code, or as a multi-line comment block"
   ]
  },
  {
   "cell_type": "code",
   "execution_count": 3,
   "id": "8e4b3798-634c-4640-b2b2-a6b9b56ff237",
   "metadata": {},
   "outputs": [],
   "source": [
    "#A variable is a string of characters and numbers associated with a piece of information.\n",
    "#The assignment operator, denoted by the “=” symbol, is the operator that is used to assign values to variables in Python.\n",
    "#The line x=1 takes the known value, 1, and assigns that value to the variable with name “x”."
   ]
  },
  {
   "cell_type": "code",
   "execution_count": 4,
   "id": "bc025873-3fca-4cdd-b23d-8c425409bd84",
   "metadata": {},
   "outputs": [],
   "source": [
    "#Python defines type conversion functions like int(), float(), str() to directly convert one data type into another.\n",
    "#This type of conversion is also called typecasting because the user casts (change) the data type of the objects.\n",
    "#This function converts any data type into integer."
   ]
  },
  {
   "cell_type": "code",
   "execution_count": null,
   "id": "8075a43e-e6ae-4aea-bcff-c7a923b2ed0f",
   "metadata": {},
   "outputs": [],
   "source": [
    "#To run Python scripts with the python command, you need to open a command-line and type in the word python , or python3 if you have both versions, followed by the path to your script, just like this: $ python3 hello.py Hello World! If everything works okay, after you press Enter , you'll see the phrase Hello World!"
   ]
  },
  {
   "cell_type": "code",
   "execution_count": 6,
   "id": "3186c752-6f18-419b-b7b6-54de68a80edb",
   "metadata": {},
   "outputs": [
    {
     "name": "stdout",
     "output_type": "stream",
     "text": [
      "[2, 3]\n"
     ]
    }
   ],
   "source": [
    "my_list=[1, 2, 3, 4, 5]\n",
    "print(my_list[1:3])"
   ]
  },
  {
   "cell_type": "code",
   "execution_count": 7,
   "id": "85765ee5-1a75-470d-8982-3806df9163d9",
   "metadata": {},
   "outputs": [],
   "source": [
    "#Complex numbers have their uses in many applications related to mathematics and python provides useful tools to handle and manipulate them.\n",
    "#Converting real numbers to complex number An complex number is represented by “ x + yi “.\n",
    "#Python converts the real numbers x and y into complex using the function complex(x,y)."
   ]
  },
  {
   "cell_type": "code",
   "execution_count": 10,
   "id": "e7140a72-5b7c-4624-a074-ba405f4f0435",
   "metadata": {},
   "outputs": [],
   "source": [
    "my_var=\"age\"\n",
    "age=25"
   ]
  },
  {
   "cell_type": "code",
   "execution_count": 11,
   "id": "d4652518-16ad-4271-a597-d10f2f09e166",
   "metadata": {},
   "outputs": [
    {
     "name": "stdout",
     "output_type": "stream",
     "text": [
      "<class 'float'>\n"
     ]
    }
   ],
   "source": [
    "my_var=\"price\"\n",
    "price=9.99\n",
    "print(type(price)) #it belongs to float() type ."
   ]
  },
  {
   "cell_type": "code",
   "execution_count": 13,
   "id": "4106b5b5-f03b-452a-8859-133c0a7a0da4",
   "metadata": {},
   "outputs": [
    {
     "name": "stdout",
     "output_type": "stream",
     "text": [
      "lakshya\n"
     ]
    }
   ],
   "source": [
    "my_var=\"name\"\n",
    "name=\"lakshya\"\n",
    "print(name)"
   ]
  },
  {
   "cell_type": "code",
   "execution_count": 14,
   "id": "7210ee47-47db-42b2-894d-c66da7aad9fc",
   "metadata": {},
   "outputs": [
    {
     "name": "stdout",
     "output_type": "stream",
     "text": [
      "World\n"
     ]
    }
   ],
   "source": [
    "str=\"Hello, World!\"\n",
    "print(str[7:12])"
   ]
  },
  {
   "cell_type": "code",
   "execution_count": 15,
   "id": "035e7418-438c-48d7-adfc-95470e3d3746",
   "metadata": {},
   "outputs": [
    {
     "name": "stdout",
     "output_type": "stream",
     "text": [
      "True\n"
     ]
    }
   ],
   "source": [
    "my_var=\"is_student\"\n",
    "is_student=True\n",
    "print(is_student)"
   ]
  },
  {
   "cell_type": "code",
   "execution_count": null,
   "id": "70eef4ff-d635-4803-aac3-13322a7eae83",
   "metadata": {},
   "outputs": [],
   "source": []
  }
 ],
 "metadata": {
  "kernelspec": {
   "display_name": "Python 3 (ipykernel)",
   "language": "python",
   "name": "python3"
  },
  "language_info": {
   "codemirror_mode": {
    "name": "ipython",
    "version": 3
   },
   "file_extension": ".py",
   "mimetype": "text/x-python",
   "name": "python",
   "nbconvert_exporter": "python",
   "pygments_lexer": "ipython3",
   "version": "3.10.8"
  }
 },
 "nbformat": 4,
 "nbformat_minor": 5
}
